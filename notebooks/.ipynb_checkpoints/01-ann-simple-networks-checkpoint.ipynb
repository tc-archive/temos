{
 "cells": [
  {
   "cell_type": "markdown",
   "metadata": {
    "collapsed": true
   },
   "source": [
    "---\n",
    "\n",
    "# The Neural Network Interface\n",
    "\n",
    "Neural networks are biologically inspired. They implement a function via a series of weighted connections that map a specified input to a specified output.\n",
    "\n",
    "##### Input (Information)\n",
    "Are the _information_ that describe some attributes of the thing for which the network will make a prediction. There may be multiple inputs. They are represented as __real__ values. A simple neural network only knows about the current input it has been given.\n",
    "\n",
    "##### Weight (Knowledge)\n",
    "Are the _knowledge_ that describe some underlying __model__ or function that releates the input to the prediction. _Learning_ is the process of adjusting these weights to generate the most accurate predictions for an input value. There is always one weight per input. They are represented as __real__ values.\n",
    "\n",
    "##### Predict (Value)\n",
    "The _result_. They can be a solution, a classification, or, a probability. They are represented as __real__ values."
   ]
  },
  {
   "cell_type": "markdown",
   "metadata": {},
   "source": [
    "---\n",
    "\n",
    "# The Simplest Neural Network - One 1-input 1-output neuron\n",
    "\n",
    "The simplest neural network imaginable. \n",
    "\n",
    "This network consists of a single 1-input neuron (node). The node is comprised of a __single neuron weight__ and takes a __single input value__ to return a __single value prediction__."
   ]
  },
  {
   "cell_type": "code",
   "execution_count": 188,
   "metadata": {
    "collapsed": true
   },
   "outputs": [],
   "source": [
    "def neural_network_1(input):\n",
    "    weight = 0.45\n",
    "    prediction = input * weight \n",
    "    return prediction"
   ]
  },
  {
   "cell_type": "markdown",
   "metadata": {},
   "source": [
    "Here we have 4 single input data points denoting 'the number of apples' in 4 boxes of apples and are trying to predict 'the cost of the box of apples':"
   ]
  },
  {
   "cell_type": "code",
   "execution_count": 189,
   "metadata": {
    "collapsed": false,
    "scrolled": true
   },
   "outputs": [
    {
     "name": "stdout",
     "output_type": "stream",
     "text": [
      "prediction - apple box 1 should cost: £0.9\n",
      "prediction - apple box 2 should cost: £1.8\n",
      "prediction - apple box 3 should cost: £2.7\n",
      "prediction - apple box 4 should cost: £3.6\n"
     ]
    }
   ],
   "source": [
    "num_apples_in_box = [2, 4, 6, 8]\n",
    "for idx, input in enumerate(num_apples_in_box):\n",
    "    box_cost = neural_network_1(input,)\n",
    "    print(\"prediction - apple box {} should cost: £{}\".format(idx+1, box_cost))"
   ]
  },
  {
   "cell_type": "markdown",
   "metadata": {},
   "source": [
    "---\n",
    "\n",
    "# The 2nd Simplest Neural Network - One 3-input 1-output neuron\n",
    "\n",
    "This network consists of a single 3-input neuron (node). The node is comprised of 3 neuron weights and takes a vector of 3 input values to return single value prediction. This neuron is interesting as it __combines__ data from multiple inputs."
   ]
  },
  {
   "cell_type": "code",
   "execution_count": 190,
   "metadata": {
    "collapsed": false
   },
   "outputs": [],
   "source": [
    "def dot_product(inputs, weights):\n",
    "    assert(len(inputs) == len(weights))\n",
    "    prediction = 0\n",
    "    for idx in range(len(weights)):\n",
    "        prediction += input[idx] * weights[idx]\n",
    "    return prediction\n",
    "\n",
    "def weighted_sum(inputs, weights):\n",
    "    return dot_product(inputs, weights)\n",
    "\n",
    "def neural_network_2(inputs):\n",
    "    weight_data = [0.45, 1.5, 0.6]\n",
    "    prediction = dot_product(inputs, weight_data)\n",
    "    return prediction"
   ]
  },
  {
   "cell_type": "markdown",
   "metadata": {},
   "source": [
    "In this new neural network, we can accept multiple inputs at a time per prediction. This allows our network to combine various forms of information to make more well informed decisions."
   ]
  },
  {
   "cell_type": "code",
   "execution_count": 191,
   "metadata": {
    "collapsed": false
   },
   "outputs": [
    {
     "name": "stdout",
     "output_type": "stream",
     "text": [
      "prediction[0]: 3.21\n",
      "prediction[1]: 21.75\n",
      "prediction[2]: 110.7\n",
      "prediction[3]: 22.5\n"
     ]
    }
   ],
   "source": [
    "input_data = [[2, 2.9, -3.4], \n",
    "              [4, 9.5, 9.5], \n",
    "              [6, 54, 45], \n",
    "              [8, 9, 9]]\n",
    "\n",
    "for idx, input in enumerate(input_data):\n",
    "    pred = neural_network_2(input)\n",
    "    print(\"prediction[{}]: {}\".format(idx, pred))"
   ]
  },
  {
   "cell_type": "markdown",
   "metadata": {},
   "source": [
    "---\n",
    "\n",
    "# The 3rd Simplest Neural Network - One 1-input 3-output neuron\n",
    "\n",
    "This network consists of a single 1-input 3-ouput neuron (node). The node is comprised of 3 neuron weights and takes a single input value to return a vector of 3 prediction values. __Prediction occurs in the same way as if there were 3 disconnected single-weight neural networks__. The 3 predictions are completely separate and none of the inputs are combined."
   ]
  },
  {
   "cell_type": "code",
   "execution_count": 192,
   "metadata": {
    "collapsed": true
   },
   "outputs": [],
   "source": [
    "def scalar_vector_multiply(scalar, vector):\n",
    "    output = [0,0,0]\n",
    "    for i in xrange(len(vector)): \n",
    "        output[i] = scalar * vector[i]\n",
    "    assert(len(output) == len(vector))\n",
    "    return output\n",
    "\n",
    "def neural_network_3(input): \n",
    "    weight_data = [0.45, 1.5, 0.75]\n",
    "    pred = scalar_vector_multiply(input, weight_data) \n",
    "    return pred"
   ]
  },
  {
   "cell_type": "code",
   "execution_count": 193,
   "metadata": {
    "collapsed": false
   },
   "outputs": [
    {
     "name": "stdout",
     "output_type": "stream",
     "text": [
      "prediction[0]: [0.9, 3.0, 1.5]\n",
      "prediction[1]: [1.8, 6.0, 3.0]\n",
      "prediction[2]: [2.7, 9.0, 4.5]\n",
      "prediction[3]: [3.6, 12.0, 6.0]\n"
     ]
    }
   ],
   "source": [
    "input_data = [2, 4, 6, 8]\n",
    "\n",
    "for idx, input in enumerate(input_data):\n",
    "    pred = neural_network_3(input)\n",
    "    print(\"prediction[{}]: {}\".format(idx, pred))"
   ]
  },
  {
   "cell_type": "markdown",
   "metadata": {},
   "source": [
    "---\n",
    "\n",
    "# The 4th Simplest Neural Network - 3-input 3-output network\n",
    "\n",
    "This network consists of 3-input 3-predictions. There are 2 perspectives one can take on this architecture. \n",
    "\n",
    "1) 3 weights coming out of the each input node.\n",
    "\n",
    "2) 3 weights going into each output node.\n",
    "\n",
    "The latter is conventional. This neural network as 3 independent dot products of the inputs. A __node__ is normally modelled as a set of weights entering the network. The 3 nodes are organised into a __layer__.\n"
   ]
  },
  {
   "cell_type": "code",
   "execution_count": 194,
   "metadata": {
    "collapsed": false
   },
   "outputs": [],
   "source": [
    "def dot_product(inputs, weights):\n",
    "    assert(len(inputs) == len(weights))\n",
    "    prediction = 0\n",
    "    for idx in range(len(weights)):\n",
    "        prediction += input[idx] * weights[idx]\n",
    "    return prediction\n",
    "\n",
    "def neural_network_4(input_vector):\n",
    "    node1_weights = [0.5, 1, 0]\n",
    "    node2_weights = [0, 0.5, 1]\n",
    "    node3_weights = [1, 0, 0.5]\n",
    "    layer_1 = [node1_weights,\n",
    "               node2_weights,\n",
    "               node3_weights]\n",
    "    pred = []\n",
    "    for node_weight_vector in layer_1:\n",
    "        pred.append(dot_product(input_vector, node_weight_vector))\n",
    "    return pred"
   ]
  },
  {
   "cell_type": "code",
   "execution_count": 195,
   "metadata": {
    "collapsed": false
   },
   "outputs": [
    {
     "name": "stdout",
     "output_type": "stream",
     "text": [
      "prediction[0]: [5.0, 10.0, 6.0]\n",
      "prediction[1]: [14.0, 20.0, 15.5]\n",
      "prediction[2]: [-7.5, -10.0, -6.5]\n"
     ]
    }
   ],
   "source": [
    "input_data = [[2, 4, 8],\n",
    "              [8, 10, 15],\n",
    "              [-3, -6, -7]]\n",
    "\n",
    "for idx, input in enumerate(input_data):\n",
    "    pred = neural_network_4(input)\n",
    "    print(\"prediction[{}]: {}\".format(idx, pred))"
   ]
  },
  {
   "cell_type": "markdown",
   "metadata": {},
   "source": [
    "---\n",
    "\n",
    "# Numpy Optimised\n",
    "\n",
    "The __numpy__ (numerical py-thon) library has very effcient code for creating vectors and performing common functions (such as a dot product). For such reason is preferable to use the library over standard python."
   ]
  },
  {
   "cell_type": "code",
   "execution_count": 196,
   "metadata": {
    "collapsed": false
   },
   "outputs": [
    {
     "name": "stdout",
     "output_type": "stream",
     "text": [
      "prediction[0]: 3.21\n",
      "prediction[1]: 21.75\n",
      "prediction[2]: 110.7\n",
      "prediction[3]: 22.5\n"
     ]
    }
   ],
   "source": [
    "import numpy as np\n",
    "def neural_network_4(input):\n",
    "    weights = np.array([0.45, 1.5, 0.6]) \n",
    "    pred = input.dot(weights) \n",
    "    return pred\n",
    "\n",
    "input_data = [np.array([2, 2.9, -3.4]), \n",
    "              np.array([4, 9.5, 9.5]), \n",
    "              np.array([6, 54, 45]), \n",
    "              np.array([8, 9, 9])]\n",
    "\n",
    "for idx, input in enumerate(input_data):\n",
    "    pred = neural_network_4(input)\n",
    "    print(\"prediction[{}]: {}\".format(idx, pred))"
   ]
  },
  {
   "cell_type": "code",
   "execution_count": null,
   "metadata": {
    "collapsed": true
   },
   "outputs": [],
   "source": []
  }
 ],
 "metadata": {
  "kernelspec": {
   "display_name": "Python 2",
   "language": "python",
   "name": "python2"
  },
  "language_info": {
   "codemirror_mode": {
    "name": "ipython",
    "version": 2
   },
   "file_extension": ".py",
   "mimetype": "text/x-python",
   "name": "python",
   "nbconvert_exporter": "python",
   "pygments_lexer": "ipython2",
   "version": "2.7.12"
  }
 },
 "nbformat": 4,
 "nbformat_minor": 2
}

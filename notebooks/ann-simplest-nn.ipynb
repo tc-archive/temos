{
 "cells": [
  {
   "cell_type": "markdown",
   "metadata": {
    "collapsed": true
   },
   "source": [
    "---\n",
    "\n",
    "### The Neural Network Interface\n",
    "\n",
    "##### Input (Information)\n",
    "Are the _information_ that describe some attributes of the thing for which the network will make a prediction. There may be multiple inputs. They are represented as __real__ values. A simple neural network only knows about the current input it has been given.\n",
    "\n",
    "##### Weight (Knowledge)\n",
    "Are the _knowledge_ that describe some underlying __model__ or function that releates the input to the prediction. _Learning_ is the process of adjusting these weights to generate the most accurate predictions for an input value. There is always one weight per input. They are represented as __real__ values.\n",
    "\n",
    "##### Predict (Value)\n",
    "The _result_. They can be a solution, a classification, or, a probability. They are represented as __real__ values."
   ]
  },
  {
   "cell_type": "markdown",
   "metadata": {},
   "source": [
    "---\n",
    "\n",
    "# The Simplest Neural Network - A one single input neuron\n",
    "\n",
    "The simplest neural network imaginable. This network consists of a single 1-input neuron (node). The node is comprised of a single neuron weight and take a single input value to return single value prediction."
   ]
  },
  {
   "cell_type": "code",
   "execution_count": 35,
   "metadata": {
    "collapsed": true
   },
   "outputs": [],
   "source": [
    "def neural_network_1(input):\n",
    "    weight = 0.45\n",
    "    prediction = input * weight \n",
    "    return prediction"
   ]
  },
  {
   "cell_type": "markdown",
   "metadata": {},
   "source": [
    "Here are the 4 predictions for 4 different input values:"
   ]
  },
  {
   "cell_type": "code",
   "execution_count": 36,
   "metadata": {
    "collapsed": false,
    "scrolled": true
   },
   "outputs": [
    {
     "name": "stdout",
     "output_type": "stream",
     "text": [
      "prediction - apple box 1 should cost: £0.9\n",
      "prediction - apple box 2 should cost: £1.8\n",
      "prediction - apple box 3 should cost: £2.7\n",
      "prediction - apple box 4 should cost: £3.6\n"
     ]
    }
   ],
   "source": [
    "num_apples_in_box = [2, 4, 6, 8]\n",
    "for idx, input in enumerate(num_apples_in_box):\n",
    "    box_cost = neural_network_1(input,)\n",
    "    print(\"prediction - apple box {} should cost: £{}\".format(idx+1, box_cost))"
   ]
  },
  {
   "cell_type": "markdown",
   "metadata": {},
   "source": [
    "---\n",
    "\n",
    "# The 2nd Simplest Neural Network - One multi-input neuron\n",
    "\n",
    "This network consists of a single 3-input neuron (node). The node is comprised of 3 neuron weights and takes a vector of 3 input values to return single value prediction."
   ]
  },
  {
   "cell_type": "code",
   "execution_count": 37,
   "metadata": {
    "collapsed": false
   },
   "outputs": [],
   "source": [
    "def w_sum(inputs, weights):\n",
    "    assert(len(inputs) == len(weights))\n",
    "    prediction = 0\n",
    "    for idx in range(len(weights)):\n",
    "        prediction += input[idx] * weights[idx]\n",
    "    return prediction\n",
    "\n",
    "def neural_network_2(inputs):\n",
    "    weight_data = [0.45, 0.5, 0]\n",
    "    prediction = w_sum(inputs, weight_data)\n",
    "    return prediction"
   ]
  },
  {
   "cell_type": "markdown",
   "metadata": {},
   "source": [
    "In this new neural network, we can accept multiple inputs at a time per prediction. This allows our network to combine various forms of information to make more well informed decisions."
   ]
  },
  {
   "cell_type": "code",
   "execution_count": 38,
   "metadata": {
    "collapsed": false
   },
   "outputs": [
    {
     "name": "stdout",
     "output_type": "stream",
     "text": [
      "prediction[0]: 2.35\n",
      "prediction[1]: 6.55\n",
      "prediction[2]: 29.7\n",
      "prediction[3]: 8.1\n"
     ]
    }
   ],
   "source": [
    "input_data = [[2, 2.9, -3.4], [4, 9.5, 9.5], [6, 54, 45], [8, 9, 9]]\n",
    "\n",
    "for idx, input in enumerate(input_data):\n",
    "    pred = neural_network_2(input)\n",
    "    print(\"prediction[{}]: {}\".format(idx, pred))"
   ]
  },
  {
   "cell_type": "markdown",
   "metadata": {},
   "source": [
    "---\n",
    "\n",
    "# Vector Operations and Dot Product\n",
    "\n",
    "The __weighted sum__ of two vectors is also known as the __dot product__. It is composed from an  __elementwise_multiplication__ operation followed by a __vector_sum__ operation.\n"
   ]
  },
  {
   "cell_type": "code",
   "execution_count": 39,
   "metadata": {
    "collapsed": false
   },
   "outputs": [],
   "source": [
    "def elementwise_multiplication(vec_a, vec_b):\n",
    "    assert(len(vec_a) == len(vec_b))\n",
    "    result = []\n",
    "    for idx in range(len(vec_a)):\n",
    "        result.append(vec_a[idx] * vec_b[idx])\n",
    "    return result\n",
    "    \n",
    "def vector_sum(vec_a):\n",
    "    result = 0\n",
    "    for a in vec_a:\n",
    "        result += a\n",
    "    return result\n",
    "\n",
    "def dot_product(vec_a, vec_b):\n",
    "    return vector_sum(elementwise_multiplication(vec_a, vec_b))\n"
   ]
  },
  {
   "cell_type": "code",
   "execution_count": 40,
   "metadata": {
    "collapsed": false
   },
   "outputs": [
    {
     "name": "stdout",
     "output_type": "stream",
     "text": [
      "elementwise_multiplication [1, 2, 3] [4, 5, 6]   = [4, 10, 18]\n",
      "vector_sum                           [4, 10, 18] = 32\n",
      "--------------------------------------------------------------\n",
      "=> dot_product             [1, 2, 3] [4, 5, 6]   = 32\n",
      "=> w_sum                   [1, 2, 3] [4, 5, 6]   = 131\n"
     ]
    }
   ],
   "source": [
    "vec_a = [1, 2, 3]\n",
    "vec_b = [4, 5, 6]\n",
    "\n",
    "ewm = elementwise_multiplication(vec_a, vec_b)\n",
    "print(\"elementwise_multiplication {} {}   = {}\".format(vec_a, vec_b, ewm))\n",
    "                     \n",
    "vs = vector_sum(ewm)\n",
    "print(\"vector_sum                           {} = {}\".format(ewm, vs))\n",
    "\n",
    "print(\"--------------------------------------------------------------\")\n",
    "\n",
    "dp = dot_product(vec_a, vec_b)\n",
    "print(\"=> dot_product             {} {}   = {}\".format(vec_a, vec_b, dp))\n",
    "\n",
    "ws = w_sum(vec_a, vec_b)\n",
    "print(\"=> w_sum                   {} {}   = {}\".format(vec_a, vec_b, ws))"
   ]
  },
  {
   "cell_type": "markdown",
   "metadata": {},
   "source": [
    "---\n",
    "\n",
    "# Dot Product - Logical Intutition\n",
    "\n",
    "A dot product gives us a _notion of similarity_ between two vectors.\n",
    "\n",
    "If higher magnitude inputs _coincide_ with higher magnitude weights then they will increase the magnitude of the dot product. "
   ]
  },
  {
   "cell_type": "code",
   "execution_count": 41,
   "metadata": {
    "collapsed": false
   },
   "outputs": [
    {
     "name": "stdout",
     "output_type": "stream",
     "text": [
      "dot_product [0, 1, 0, 1] [0, 1, 0, 1] = 2\n",
      "dot_product [0, 1, 0, 1] [1, 0, 1, 0] = 0\n"
     ]
    }
   ],
   "source": [
    "i1 = [ 0, 1, 0, 1] \n",
    "\n",
    "w1 = [ 0, 1, 0, 1]\n",
    "w2 = [ 1, 0, 1, 0]\n",
    "\n",
    "dp = dot_product(i1, w1)\n",
    "print(\"dot_product {} {} = {}\".format(i1, w1, dot_product(i1, w1)))\n",
    "print(\"dot_product {} {} = {}\".format(i1, w2, dot_product(i1, w2)))\n",
    "\n"
   ]
  },
  {
   "cell_type": "code",
   "execution_count": null,
   "metadata": {
    "collapsed": true
   },
   "outputs": [],
   "source": []
  }
 ],
 "metadata": {
  "kernelspec": {
   "display_name": "Python 2",
   "language": "python",
   "name": "python2"
  },
  "language_info": {
   "codemirror_mode": {
    "name": "ipython",
    "version": 2
   },
   "file_extension": ".py",
   "mimetype": "text/x-python",
   "name": "python",
   "nbconvert_exporter": "python",
   "pygments_lexer": "ipython2",
   "version": "2.7.12"
  }
 },
 "nbformat": 4,
 "nbformat_minor": 2
}
